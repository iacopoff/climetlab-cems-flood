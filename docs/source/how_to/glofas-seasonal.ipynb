{
 "cells": [
  {
   "cell_type": "markdown",
   "id": "0439510e-71b5-4c8b-88a5-0307545df8b1",
   "metadata": {},
   "source": [
    "# GloFAS Seasonal Forecast"
   ]
  },
  {
   "cell_type": "code",
   "execution_count": 1,
   "id": "057f8acc-9d30-4221-98fd-064eb74b692e",
   "metadata": {},
   "outputs": [],
   "source": [
    "import climetlab as cml\n",
    "import climetlab_cems_flood as cmf"
   ]
  },
  {
   "cell_type": "code",
   "execution_count": null,
   "id": "2e09796b-17ca-4c73-be74-9171450d77d7",
   "metadata": {},
   "outputs": [],
   "source": [
    "seasonal = cml.load_dataset(\n",
    "            'cems-glofas-seasonal',\n",
    "            model='lisflood',\n",
    "            system_version='operational',\n",
    "            temporal_filter= '2022 05-08 *',\n",
    "            leadtime_hour = '24-72',\n",
    "            variable=\"river_discharge_in_the_last_24_hours\",\n",
    "            split_on=[\"month\"],\n",
    ")"
   ]
  },
  {
   "cell_type": "code",
   "execution_count": null,
   "id": "c406bd2d-cabd-4a3a-9525-253dd98e1c29",
   "metadata": {},
   "outputs": [],
   "source": [
    "seasonal.to_xarray()"
   ]
  },
  {
   "cell_type": "code",
   "execution_count": null,
   "id": "5c04f240-d458-4434-89c4-18a0125c6457",
   "metadata": {},
   "outputs": [],
   "source": []
  }
 ],
 "metadata": {
  "kernelspec": {
   "display_name": "cems",
   "language": "python",
   "name": "cems"
  },
  "language_info": {
   "codemirror_mode": {
    "name": "ipython",
    "version": 3
   },
   "file_extension": ".py",
   "mimetype": "text/x-python",
   "name": "python",
   "nbconvert_exporter": "python",
   "pygments_lexer": "ipython3",
   "version": "3.10.8 | packaged by conda-forge | (main, Nov 22 2022, 08:26:04) [GCC 10.4.0]"
  }
 },
 "nbformat": 4,
 "nbformat_minor": 5
}
