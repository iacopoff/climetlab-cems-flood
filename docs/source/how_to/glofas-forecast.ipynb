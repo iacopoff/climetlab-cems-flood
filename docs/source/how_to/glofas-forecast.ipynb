{
 "cells": [
  {
   "cell_type": "markdown",
   "id": "5fbe5e32-4247-4369-8306-20d77104c7ca",
   "metadata": {},
   "source": [
    "# GloFAS Forecast"
   ]
  },
  {
   "cell_type": "code",
   "execution_count": 1,
   "id": "d6c56fda-2fc3-4d42-abe8-91b2963b7887",
   "metadata": {},
   "outputs": [],
   "source": [
    "import climetlab as cml\n",
    "import climetlab_cems_flood as cmf"
   ]
  },
  {
   "cell_type": "code",
   "execution_count": 2,
   "id": "331202c1-4340-4496-905f-8d1005c58bd7",
   "metadata": {},
   "outputs": [],
   "source": [
    "ps = {'name':'pontelagoscuro','lat':44.886111, 'lon':11.604444}"
   ]
  },
  {
   "cell_type": "code",
   "execution_count": 7,
   "id": "36c450f1-a8c8-4b7f-8b01-718cfc4970e1",
   "metadata": {},
   "outputs": [
    {
     "name": "stderr",
     "output_type": "stream",
     "text": [
      "                                                                                \r"
     ]
    }
   ],
   "source": [
    "forecast = cml.load_dataset(\n",
    "            'cems-glofas-forecast',\n",
    "            model='lisflood',\n",
    "            product_type='ensemble_perturbed_forecasts',\n",
    "            system_version='operational',\n",
    "            temporal_filter= '2021 07 10-15',\n",
    "            leadtime_hour = '24-100',\n",
    "            variable=\"river_discharge_in_the_last_24_hours\",\n",
    "            coords = [ps],\n",
    "            split_on = ['day'],\n",
    "            threads = 6\n",
    ")"
   ]
  },
  {
   "cell_type": "code",
   "execution_count": 8,
   "id": "5461380f-097b-4f62-89d1-91ac40b030fa",
   "metadata": {},
   "outputs": [],
   "source": [
    "ds = forecast.to_xarray()"
   ]
  }
 ],
 "metadata": {
  "kernelspec": {
   "display_name": "cems",
   "language": "python",
   "name": "cems"
  },
  "language_info": {
   "codemirror_mode": {
    "name": "ipython",
    "version": 3
   },
   "file_extension": ".py",
   "mimetype": "text/x-python",
   "name": "python",
   "nbconvert_exporter": "python",
   "pygments_lexer": "ipython3",
   "version": "3.10.8 | packaged by conda-forge | (main, Nov 22 2022, 08:26:04) [GCC 10.4.0]"
  }
 },
 "nbformat": 4,
 "nbformat_minor": 5
}
