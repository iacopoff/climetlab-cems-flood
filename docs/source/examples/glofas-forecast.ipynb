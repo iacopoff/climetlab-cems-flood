{
 "cells": [
  {
   "cell_type": "markdown",
   "id": "5fbe5e32-4247-4369-8306-20d77104c7ca",
   "metadata": {},
   "source": [
    "# GloFAS Forecast"
   ]
  },
  {
   "cell_type": "code",
   "execution_count": 1,
   "id": "158d014c-81a4-457c-b0db-f9645d52d14a",
   "metadata": {},
   "outputs": [],
   "source": [
    "import climetlab as cml\n",
    "import climetlab_cems_flood as cmf"
   ]
  },
  {
   "cell_type": "code",
   "execution_count": 2,
   "id": "427c9435-bf0d-4696-992c-464d6c28e8a4",
   "metadata": {},
   "outputs": [],
   "source": [
    "nwse = [50.972204,5.450796, 46.296530, 11.871059] # Ryne"
   ]
  },
  {
   "cell_type": "code",
   "execution_count": 7,
   "id": "a072b522-6ae2-4985-987a-25709118439c",
   "metadata": {},
   "outputs": [],
   "source": [
    "forecast = cml.load_dataset(\n",
    "            'cems-flood-glofas-forecast',\n",
    "            model='lisflood',\n",
    "            product_type='ensemble_perturbed_forecasts',\n",
    "            system_version='operational',\n",
    "            period= '20210710-20210715',#'2001-200401-04*',\n",
    "            leadtime_hour = '24-120',\n",
    "            variable=\"river_discharge_in_the_last_24_hours\",\n",
    "            area= nwse,\n",
    "            split_on = ['day'],\n",
    "            threads = 6,\n",
    "            merger=False\n",
    "        )"
   ]
  },
  {
   "cell_type": "code",
   "execution_count": 8,
   "id": "e031de25-1cc0-4c6b-aeac-78a04d888d6b",
   "metadata": {},
   "outputs": [],
   "source": [
    "forecast.to_netcdf(\"/data/temp\",\"bla\")"
   ]
  },
  {
   "cell_type": "code",
   "execution_count": null,
   "id": "d0c26267-c01f-47cf-9125-443d33c22750",
   "metadata": {},
   "outputs": [],
   "source": [
    "ds = ds.chunk({\"realization\":1,\n",
    "                      \"forecast_reference_time\": 1,\n",
    "                      \"leadtime\": -1,\n",
    "                      \"lat\": 250,\n",
    "                      \"lon\": 250})"
   ]
  },
  {
   "cell_type": "code",
   "execution_count": null,
   "id": "b96e9cc9-15c3-4828-9d50-7fba76b5f7d0",
   "metadata": {
    "tags": []
   },
   "outputs": [],
   "source": [
    "ds.to_zarr(\"/data/temp/clim_zarr_big.zarr\", mode= \"w\")"
   ]
  },
  {
   "cell_type": "code",
   "execution_count": null,
   "id": "dd2b8aa9-a5ff-42a5-ba61-2fa314059f11",
   "metadata": {},
   "outputs": [],
   "source": [
    "import matplotlib.pyplot as plt"
   ]
  },
  {
   "cell_type": "code",
   "execution_count": null,
   "id": "5ef18e55-3a8e-4ac7-b14d-f6953143c728",
   "metadata": {},
   "outputs": [],
   "source": [
    "plt.figure(figsize=(15,10))\n",
    "for i,c in enumerate([\"black\",\"grey\",\"blue\",\"red\",\"green\",\"orange\"]):\n",
    "    _ = plt.plot(ds.dis24.isel(forecast_reference_time=i).time.values,\n",
    "                 ds.dis24.isel(forecast_reference_time=i,drop=True).mean([\"lat\",\"lon\"]).values.T,\n",
    "                 color=c)"
   ]
  }
 ],
 "metadata": {
  "kernelspec": {
   "display_name": "riverv-env",
   "language": "python",
   "name": "riverv-env"
  },
  "language_info": {
   "codemirror_mode": {
    "name": "ipython",
    "version": 3
   },
   "file_extension": ".py",
   "mimetype": "text/x-python",
   "name": "python",
   "nbconvert_exporter": "python",
   "pygments_lexer": "ipython3",
   "version": "3.10.4"
  }
 },
 "nbformat": 4,
 "nbformat_minor": 5
}
