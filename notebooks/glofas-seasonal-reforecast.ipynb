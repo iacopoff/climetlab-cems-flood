{
 "cells": [
  {
   "cell_type": "markdown",
   "id": "c0b1772d-a813-48d0-9f4b-f89377e6f08e",
   "metadata": {},
   "source": [
    "# GloFAS seasonal reforecast"
   ]
  },
  {
   "cell_type": "code",
   "execution_count": 1,
   "id": "536ba709-012c-42b5-9748-af38c6d8faf8",
   "metadata": {},
   "outputs": [],
   "source": [
    "import climetlab as cml\n",
    "import climetlab_cems_flood as cmf"
   ]
  },
  {
   "cell_type": "code",
   "execution_count": 2,
   "id": "3dea7ee3-a26f-4942-8741-ee33f962423e",
   "metadata": {},
   "outputs": [],
   "source": [
    "nwse = [50.972204,5.450796, 46.296530, 11.871059] # Ryne"
   ]
  },
  {
   "cell_type": "code",
   "execution_count": null,
   "id": "4f09f118-2e4c-4df4-8958-c95c774dc944",
   "metadata": {},
   "outputs": [],
   "source": [
    "ref = cml.load_dataset(\n",
    "            'cems-flood-glofas-seasonal-reforecast',\n",
    "            model='lisflood',\n",
    "            system_version='version_3_1',\n",
    "            period= '20180701-20181101',\n",
    "            leadtime_hour = '24-240',\n",
    "            variable=\"river_discharge_in_the_last_24_hours\",\n",
    "            area= nwse,\n",
    "            split_on = ['hmonth'],\n",
    "            threads = 6,\n",
    "            merger=None\n",
    "        )"
   ]
  },
  {
   "cell_type": "code",
   "execution_count": null,
   "id": "f8c30a0b-91ab-42a0-94a6-1c93b23820ff",
   "metadata": {},
   "outputs": [],
   "source": []
  },
  {
   "cell_type": "code",
   "execution_count": null,
   "id": "8c0dc21c-6435-4507-879a-670308539c00",
   "metadata": {},
   "outputs": [],
   "source": []
  }
 ],
 "metadata": {
  "kernelspec": {
   "display_name": "riverv-env",
   "language": "python",
   "name": "riverv-env"
  },
  "language_info": {
   "codemirror_mode": {
    "name": "ipython",
    "version": 3
   },
   "file_extension": ".py",
   "mimetype": "text/x-python",
   "name": "python",
   "nbconvert_exporter": "python",
   "pygments_lexer": "ipython3",
   "version": "3.10.4"
  }
 },
 "nbformat": 4,
 "nbformat_minor": 5
}
