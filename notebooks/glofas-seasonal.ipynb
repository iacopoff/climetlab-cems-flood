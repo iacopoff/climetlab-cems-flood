{
 "cells": [
  {
   "cell_type": "code",
   "execution_count": 1,
   "id": "ed200975-d134-4c57-9b97-3fd6e5167799",
   "metadata": {},
   "outputs": [],
   "source": [
    "import climetlab as cml\n",
    "import cems_flood_viewer as cmw\n",
    "import matplotlib.pyplot as plt"
   ]
  },
  {
   "cell_type": "code",
   "execution_count": 2,
   "id": "f87c685f-8df0-4b56-9f5a-c368ceea3ec7",
   "metadata": {},
   "outputs": [],
   "source": [
    "nwse = [50.972204,5.450796, 46.296530, 11.871059] # Ryne"
   ]
  },
  {
   "cell_type": "code",
   "execution_count": null,
   "id": "b042e3e0-22ff-41bb-ac2b-1ffe78ea6e67",
   "metadata": {},
   "outputs": [],
   "source": [
    "forecast = cml.load_dataset(\n",
    "            'cems-flood-glofas-seasonal',\n",
    "            model='lisflood',\n",
    "            system_version='operational',\n",
    "            period= '20220101',#'2001-200401-04*',\n",
    "            leadtime = '24-720',\n",
    "            variable=\"river_discharge_in_the_last_24_hours\",\n",
    "            area= nwse\n",
    "        )"
   ]
  },
  {
   "cell_type": "code",
   "execution_count": null,
   "id": "430ac898-bcc2-41b1-b1cb-3c98855ff0b6",
   "metadata": {},
   "outputs": [],
   "source": [
    "ds = forecast.to_xarray()\n",
    "ds"
   ]
  },
  {
   "cell_type": "code",
   "execution_count": null,
   "id": "2049ccfd-d6be-4548-ae1d-fe0ee68a2acb",
   "metadata": {},
   "outputs": [],
   "source": [
    "plt.figure(figsize=(15,10))\n",
    "_ = plt.plot(ds.dis24.isel(forecast_reference_time=0,drop=True).mean([\"lat\",\"lon\"]).values.T)"
   ]
  }
 ],
 "metadata": {
  "kernelspec": {
   "display_name": "cems-flood",
   "language": "python",
   "name": "cems-flood"
  },
  "language_info": {
   "codemirror_mode": {
    "name": "ipython",
    "version": 3
   },
   "file_extension": ".py",
   "mimetype": "text/x-python",
   "name": "python",
   "nbconvert_exporter": "python",
   "pygments_lexer": "ipython3",
   "version": "3.9.9"
  }
 },
 "nbformat": 4,
 "nbformat_minor": 5
}
