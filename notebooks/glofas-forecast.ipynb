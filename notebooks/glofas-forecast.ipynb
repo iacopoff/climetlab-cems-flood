{
 "cells": [
  {
   "cell_type": "markdown",
   "id": "5fbe5e32-4247-4369-8306-20d77104c7ca",
   "metadata": {},
   "source": [
    "# GloFAS Forecast"
   ]
  },
  {
   "cell_type": "code",
   "execution_count": 1,
   "id": "d6c56fda-2fc3-4d42-abe8-91b2963b7887",
   "metadata": {},
   "outputs": [
    {
     "name": "stdout",
     "output_type": "stream",
     "text": [
      "Loading cems config: /home/iacopo/.climetlab/cems_config.json, last modified: 2022-12-31 11:21:34.158314\n"
     ]
    }
   ],
   "source": [
    "import climetlab as cml\n",
    "import climetlab_cems_flood as cmf"
   ]
  },
  {
   "cell_type": "code",
   "execution_count": 2,
   "id": "331202c1-4340-4496-905f-8d1005c58bd7",
   "metadata": {},
   "outputs": [],
   "source": [
    "ps = {'name':'pontelagoscuro','lat':44.886111, 'lon':11.604444}\n",
    "cm = {'name':'casale-monferrato','lat':45.142222, 'lon':8.447500} # casale monferrato po\\n\",\n",
    "ca = {'name':'canonica-dadda', 'lat':45.576944, 'lon':9.534722} # canonica d'adda\\n\","
   ]
  },
  {
   "cell_type": "code",
   "execution_count": 4,
   "id": "36c450f1-a8c8-4b7f-8b01-718cfc4970e1",
   "metadata": {},
   "outputs": [
    {
     "name": "stderr",
     "output_type": "stream",
     "text": [
      " 11%|██▉                       | 2/18 [00:00<00:06,  2.32it/s]2023-01-02 22:19:38,574 INFO Welcome to the CDS\n",
      "2023-01-02 22:19:38,574 INFO Sending request to https://cds.climate.copernicus.eu/api/v2/resources/cems-glofas-forecast\n",
      "2023-01-02 22:19:38,649 INFO Welcome to the CDS\n",
      "2023-01-02 22:19:38,650 INFO Sending request to https://cds.climate.copernicus.eu/api/v2/resources/cems-glofas-forecast\n",
      "2023-01-02 22:19:38,681 INFO Request is queued\n",
      "2023-01-02 22:19:38,698 INFO Request is queued\n",
      "2023-01-02 22:19:38,710 INFO Welcome to the CDS\n",
      "2023-01-02 22:19:38,711 INFO Sending request to https://cds.climate.copernicus.eu/api/v2/resources/cems-glofas-forecast\n",
      "2023-01-02 22:19:38,732 INFO Welcome to the CDS\n",
      "2023-01-02 22:19:38,733 INFO Sending request to https://cds.climate.copernicus.eu/api/v2/resources/cems-glofas-forecast\n",
      "2023-01-02 22:19:38,744 INFO Request is queued\n",
      "2023-01-02 22:19:38,775 INFO Welcome to the CDS\n",
      "2023-01-02 22:19:38,776 INFO Sending request to https://cds.climate.copernicus.eu/api/v2/resources/cems-glofas-forecast\n",
      "2023-01-02 22:19:38,789 INFO Request is queued\n",
      "2023-01-02 22:19:38,843 INFO Welcome to the CDS\n",
      "2023-01-02 22:19:38,843 INFO Sending request to https://cds.climate.copernicus.eu/api/v2/resources/cems-glofas-forecast\n",
      "2023-01-02 22:19:38,880 INFO Request is queued\n",
      "2023-01-02 22:19:38,893 INFO Request is queued\n",
      "2023-01-02 22:19:39,732 INFO Request is running\n",
      "2023-01-02 22:19:39,776 INFO Request is running\n",
      "2023-01-02 22:20:11,190 INFO Request is completed\n",
      "2023-01-02 22:20:11,191 INFO Request is completed\n",
      "2023-01-02 22:20:11,192 INFO Downloading https://download-0020.copernicus-climate.eu/cache-compute-0020/cache/data7/adaptor.mars.external-1672694378.9285338-8717-13-62473254-02c0-447c-a105-01fcbba31bfe.grib to /data/climetlab-tmp/c-dsretriever-9feaff79bb5fb1c325457226db9867aab83c56300d33bcc9559d84ca01314b45.grib.tmp (70.3K)\n",
      "2023-01-02 22:20:11,193 INFO Downloading https://download-0014-clone.copernicus-climate.eu/cache-compute-0014/cache/data1/adaptor.mars.external-1672694378.9539752-2247-3-2bcb1fd6-38e5-4ae5-8d18-b32ff4009ea4.grib to /data/climetlab-tmp/c-dsretriever-435d9583dd38254ec44439a1e2074b29b6d9f43f9593e2644a2d486165dfe0f3.grib.tmp (70.3K)\n",
      "2023-01-02 22:20:11,276 INFO Request is running\n",
      "2023-01-02 22:20:11,289 INFO Request is running\n",
      "\n",
      "  0%|                             | 0.00/70.3k [00:00<?, ?B/s]\u001b[A\n",
      "\n",
      "  0%|                             | 0.00/70.3k [00:00<?, ?B/s]\u001b[A\u001b[A\n",
      "                                                              \u001b[A2023-01-02 22:20:11,425 INFO Download rate 304.7K/s\n",
      "\n",
      "\n",
      "                                                              \u001b[A\u001b[A2023-01-02 22:20:11,431 INFO Download rate 295.3K/s\n",
      "2023-01-02 22:20:12,119 INFO Welcome to the CDS\n",
      "2023-01-02 22:20:12,120 INFO Sending request to https://cds.climate.copernicus.eu/api/v2/resources/cems-glofas-forecast\n",
      "2023-01-02 22:20:12,160 INFO Request is queued\n",
      "2023-01-02 22:20:12,177 INFO Welcome to the CDS\n",
      "2023-01-02 22:20:12,178 INFO Sending request to https://cds.climate.copernicus.eu/api/v2/resources/cems-glofas-forecast\n",
      "2023-01-02 22:20:12,206 INFO Request is queued\n",
      "2023-01-02 22:20:28,408 INFO Request is completed\n",
      "2023-01-02 22:20:28,409 INFO Downloading https://download-0007-clone.copernicus-climate.eu/cache-compute-0007/cache/data9/adaptor.mars.external-1672694403.7331793-29660-7-7b1bfc39-9917-464e-a8c5-15f3de040e64.grib to /data/climetlab-tmp/c-dsretriever-cc82e9a92334deaff8bbed21fe21f26f9cbb5251637d37d62b2e707d663f81dd.grib.tmp (70.3K)\n",
      "\n",
      "  0%|                             | 0.00/70.3k [00:00<?, ?B/s]\u001b[A\n",
      "                                                              \u001b[A2023-01-02 22:20:28,620 INFO Download rate 333K/s\n",
      "2023-01-02 22:20:29,070 INFO Welcome to the CDS\n",
      "2023-01-02 22:20:29,070 INFO Sending request to https://cds.climate.copernicus.eu/api/v2/resources/cems-glofas-forecast\n",
      "2023-01-02 22:20:29,108 INFO Request is queued\n",
      "2023-01-02 22:20:54,022 INFO Request is running\n",
      "2023-01-02 22:20:54,027 INFO Request is completed\n",
      "2023-01-02 22:20:54,027 INFO Downloading https://download-0005-clone.copernicus-climate.eu/cache-compute-0005/cache/data0/adaptor.mars.external-1672694428.679905-31000-20-27d67c3e-3461-4adb-8f90-611b6d866556.grib to /data/climetlab-tmp/c-dsretriever-dc81fd1132d70df5458685abdd74a0b6bca3b1caaabaf02465a69480d06d6fca.grib.tmp (70.3K)\n",
      "2023-01-02 22:20:54,099 INFO Request is completed\n",
      "2023-01-02 22:20:54,100 INFO Downloading https://download-0001-clone.copernicus-climate.eu/cache-compute-0001/cache/data5/adaptor.mars.external-1672694403.977616-4552-13-06850b08-4039-405b-83f0-837ae50ed88d.grib to /data/climetlab-tmp/c-dsretriever-ee5f3fc9c79e9c2151cda88e8c6b15be516e082d68fe01ab71c5a4bb648d63a9.grib.tmp (70.3K)\n",
      "\n",
      "  0%|                                                                                                                                                                                  | 0.00/70.3k [00:00<?, ?B/s]\u001b[A\n",
      "                                                                                                                                                                                                                   \u001b[A2023-01-02 22:20:54,223 INFO Download rate 360.3K/s\n",
      "\n",
      "  0%|                                                                                                                                                                                  | 0.00/70.3k [00:00<?, ?B/s]\u001b[A\n",
      "                                                                                                                                                                                                                   \u001b[A2023-01-02 22:20:54,328 INFO Download rate 308.5K/s\n",
      "2023-01-02 22:20:54,919 INFO Welcome to the CDS\n",
      "2023-01-02 22:20:54,920 INFO Sending request to https://cds.climate.copernicus.eu/api/v2/resources/cems-glofas-forecast\n",
      "2023-01-02 22:20:54,994 INFO Request is queued\n",
      "2023-01-02 22:20:55,098 INFO Welcome to the CDS\n",
      "2023-01-02 22:20:55,098 INFO Sending request to https://cds.climate.copernicus.eu/api/v2/resources/cems-glofas-forecast\n",
      "2023-01-02 22:20:55,149 INFO Request is queued\n",
      "2023-01-02 22:21:01,834 INFO Request is running\n",
      "2023-01-02 22:21:01,837 INFO Request is running\n",
      "2023-01-02 22:21:18,790 INFO Request is running\n",
      "2023-01-02 22:21:27,507 INFO Request is completed\n",
      "2023-01-02 22:21:27,508 INFO Downloading https://download-0015-clone.copernicus-climate.eu/cache-compute-0015/cache/data7/adaptor.mars.external-1672694455.7781951-1046-4-19618b0d-6c47-4f99-a855-767eb8b895ec.grib to /data/climetlab-tmp/c-dsretriever-af1e5bec0d89479e1de6e4bcdb715a46ad3ae64ac74779c48ad754fa71ff5b6e.grib.tmp (70.3K)\n",
      "2023-01-02 22:21:27,619 INFO Request is running\n",
      "2023-01-02 22:21:27,630 INFO Request is completed\n",
      "2023-01-02 22:21:27,631 INFO Downloading https://download-0013-clone.copernicus-climate.eu/cache-compute-0013/cache/data3/adaptor.mars.external-1672694453.1540112-4807-3-2448a71c-6c90-47c7-8233-918eb7eadc45.grib to /data/climetlab-tmp/c-dsretriever-31fb2de00d552e0cecd69a381564227e4643fcd7e722c56c61b2c18cf8cac37b.grib.tmp (70.3K)\n",
      "\n",
      "  0%|                                                                                                                                                                                  | 0.00/70.3k [00:00<?, ?B/s]\u001b[A\n",
      "                                                                                                                                                                                                                   \u001b[A2023-01-02 22:21:27,721 INFO Download rate 331K/s\n",
      "\n",
      "  0%|                                                                                                                                                                                  | 0.00/70.3k [00:00<?, ?B/s]\u001b[A\n",
      "                                                                                                                                                                                                                   \u001b[A2023-01-02 22:21:27,825 INFO Download rate 364.2K/s\n",
      "2023-01-02 22:21:28,323 INFO Welcome to the CDS\n",
      "2023-01-02 22:21:28,324 INFO Sending request to https://cds.climate.copernicus.eu/api/v2/resources/cems-glofas-forecast\n",
      "2023-01-02 22:21:28,358 INFO Request is queued\n",
      "2023-01-02 22:21:32,533 INFO Request is completed\n",
      "2023-01-02 22:21:32,533 INFO Downloading https://download-0011-clone.copernicus-climate.eu/cache-compute-0011/cache/data4/adaptor.mars.external-1672694428.9319642-17446-9-389128c0-2f3f-44a3-86f0-de9ccb30df25.grib to /data/climetlab-tmp/c-dsretriever-406bf11974218a3910029ece631bbaebc30ce492a7a666b8e2d065519f7c4650.grib.tmp (70.3K)\n",
      "\n",
      "  0%|                                                                                                                                                                                  | 0.00/70.3k [00:00<?, ?B/s]\u001b[A\n",
      "                                                                                                                                                                                                                   \u001b[A2023-01-02 22:21:32,742 INFO Download rate 337.4K/s\n",
      " 39%|██████████                | 7/18 [01:55<03:24, 18.62s/it]2023-01-02 22:21:41,817 INFO Request is running\n",
      "2023-01-02 22:21:44,475 INFO Request is completed\n",
      "2023-01-02 22:21:44,475 INFO Downloading https://download-0016.copernicus-climate.eu/cache-compute-0016/cache/data4/adaptor.mars.external-1672694477.8140118-28915-9-dead2473-e7b0-459b-8dc2-5ef9821724ea.grib to /data/climetlab-tmp/c-dsretriever-172713164f14a93b8f2a0bc39f53abc026f658cde8ee4028391a7992491b008a.grib.tmp (70.3K)\n",
      "\n",
      "  0%|                                                                                                                                                                                  | 0.00/70.3k [00:00<?, ?B/s]\u001b[A2023-01-02 22:21:44,653 INFO Request is running\n",
      "\n",
      "                                                                                                                                                                                                                   \u001b[A2023-01-02 22:21:44,683 INFO Download rate 338.7K/s\n",
      "2023-01-02 22:21:44,748 INFO Request is completed\n",
      "2023-01-02 22:21:44,748 INFO Downloading https://download-0015-clone.copernicus-climate.eu/cache-compute-0015/cache/data7/adaptor.mars.external-1672694480.2510302-3371-4-1e9243a5-3964-4f78-b544-b6c25af2ad5e.grib to /data/climetlab-tmp/c-dsretriever-969fe25d190c28478603bb61c01211d09e63e225412a9a43796390d545f8eb6a.grib.tmp (70.3K)\n",
      "\n",
      "  0%|                                                                                                                                                                                  | 0.00/70.3k [00:00<?, ?B/s]\u001b[A\n",
      "                                                                                                                                                                                                                   \u001b[A2023-01-02 22:21:44,828 INFO Download rate 888.8K/s\n",
      " 83%|████████████████████▊    | 15/18 [02:07<00:22,  7.52s/it]2023-01-02 22:22:10,360 INFO Request is completed\n",
      "2023-01-02 22:22:10,361 INFO Downloading https://download-0012-clone.copernicus-climate.eu/cache-compute-0012/cache/data2/adaptor.mars.external-1672694504.6987314-29938-18-ad9a2fc6-5528-40e0-b260-3b71a3ea6e53.grib to /data/climetlab-tmp/c-dsretriever-ea0db6ea91123acadb5a9f718a1922a5062a21e2fd51b250540a0d3054c9c28f.grib.tmp (70.3K)\n",
      "\n",
      "  0%|                                                                                                                                                                                  | 0.00/70.3k [00:00<?, ?B/s]\u001b[A\n",
      "                                                                                                                                                                                                                   \u001b[A2023-01-02 22:22:10,572 INFO Download rate 334.2K/s\n",
      " 89%|██████████████████████▏  | 16/18 [02:33<00:18,  9.42s/it]2023-01-02 22:22:18,052 INFO Request is completed\n",
      "2023-01-02 22:22:18,053 INFO Downloading https://download-0012-clone.copernicus-climate.eu/cache-compute-0012/cache/data9/adaptor.mars.external-1672694501.491425-32574-14-77ec30c5-2716-4025-ab70-543c8085cc09.grib to /data/climetlab-tmp/c-dsretriever-2b853eb8d374f71f41759fe8e3c0637a6055e63b1328e54ed2b58068a02eca87.grib.tmp (70.3K)\n",
      "\n",
      "  0%|                                                                                                                                                                                  | 0.00/70.3k [00:00<?, ?B/s]\u001b[A\n",
      "                                                                                                                                                                                                                   \u001b[A2023-01-02 22:22:18,130 INFO Download rate 918.6K/s\n",
      "                                                              \r"
     ]
    }
   ],
   "source": [
    "forecast = cml.load_dataset(\n",
    "            'glofas-forecast',\n",
    "            model='lisflood',\n",
    "            product_type='ensemble_perturbed_forecasts',\n",
    "            system_version='operational',\n",
    "            temporal_filter= '2021 07 10-15',\n",
    "            leadtime_hour = '24-100',\n",
    "            variable=\"river_discharge_in_the_last_24_hours\",\n",
    "            coords = [ps, cm, ca],\n",
    "            split_on = ['coords', 'day'],\n",
    "            threads = 6\n",
    ")"
   ]
  },
  {
   "cell_type": "code",
   "execution_count": 8,
   "id": "5461380f-097b-4f62-89d1-91ac40b030fa",
   "metadata": {},
   "outputs": [],
   "source": [
    "ds = forecast.to_xarray()"
   ]
  }
 ],
 "metadata": {
  "kernelspec": {
   "display_name": "cems",
   "language": "python",
   "name": "cems"
  },
  "language_info": {
   "codemirror_mode": {
    "name": "ipython",
    "version": 3
   },
   "file_extension": ".py",
   "mimetype": "text/x-python",
   "name": "python",
   "nbconvert_exporter": "python",
   "pygments_lexer": "ipython3",
   "version": "3.10.8"
  }
 },
 "nbformat": 4,
 "nbformat_minor": 5
}
