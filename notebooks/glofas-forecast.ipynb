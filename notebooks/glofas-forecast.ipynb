{
 "cells": [
  {
   "cell_type": "markdown",
   "id": "5fbe5e32-4247-4369-8306-20d77104c7ca",
   "metadata": {},
   "source": [
    "# GloFAS Forecast"
   ]
  },
  {
   "cell_type": "code",
   "execution_count": 1,
   "id": "e20aaddb-bb37-43c5-b70d-9cd3e099982d",
   "metadata": {},
   "outputs": [],
   "source": [
    "import climetlab as cml\n",
    "import climetlab_cems_flood as cmf"
   ]
  },
  {
   "cell_type": "code",
   "execution_count": 2,
   "id": "3b7427c8-4616-4f91-bd48-4cfa084f6414",
   "metadata": {},
   "outputs": [],
   "source": [
    "import re, requests"
   ]
  },
  {
   "cell_type": "code",
   "execution_count": 3,
   "id": "3a4d1e33-4eb6-4e5c-905b-6a4f476ea355",
   "metadata": {},
   "outputs": [],
   "source": [
    "nwse = [50.972204,5.450796, 46.296530, 11.871059] # Ryne"
   ]
  },
  {
   "cell_type": "code",
   "execution_count": 4,
   "id": "f601b5ca-2a8a-40cf-b34e-7b5234fca503",
   "metadata": {},
   "outputs": [
    {
     "data": {
      "text/plain": [
       "[2, 2]"
      ]
     },
     "execution_count": 4,
     "metadata": {},
     "output_type": "execute_result"
    }
   ],
   "source": [
    "from itertools import chain \n",
    "list(chain(*[[2],[2]]))"
   ]
  },
  {
   "cell_type": "code",
   "execution_count": 5,
   "id": "61ae9e36-fa58-4e63-9662-c9861cf5f0f9",
   "metadata": {},
   "outputs": [
    {
     "name": "stdout",
     "output_type": "stream",
     "text": [
      "1 1 1\n",
      "2 2 3\n"
     ]
    }
   ],
   "source": [
    "for i,n,c in zip([1,2,3,4,5],[1,2],[1,3]):\n",
    "    print(i,n,c)"
   ]
  },
  {
   "cell_type": "code",
   "execution_count": 6,
   "id": "331202c1-4340-4496-905f-8d1005c58bd7",
   "metadata": {},
   "outputs": [],
   "source": []
  },
  {
   "cell_type": "code",
   "execution_count": 7,
   "id": "36c450f1-a8c8-4b7f-8b01-718cfc4970e1",
   "metadata": {},
   "outputs": [
    {
     "name": "stderr",
     "output_type": "stream",
     "text": [
      "                                                                                                                                                       \r"
     ]
    }
   ],
   "source": [
    "forecast = cml.load_dataset(\n",
    "            'cems-flood-glofas-forecast',\n",
    "            model='lisflood',\n",
    "            product_type='ensemble_perturbed_forecasts',\n",
    "            system_version='operational',\n",
    "            period= '20210710-20210715',#'2001-200401-04*',\n",
    "            leadtime_hour = '24-100',\n",
    "            variable=\"river_discharge_in_the_last_24_hours\",\n",
    "            area= nwse,\n",
    "            split_on = ['day'],\n",
    "            threads = 6,\n",
    "            merger=None\n",
    "        )"
   ]
  },
  {
   "cell_type": "code",
   "execution_count": 9,
   "id": "5461380f-097b-4f62-89d1-91ac40b030fa",
   "metadata": {},
   "outputs": [],
   "source": [
    "ds = forecast.to_xarray()"
   ]
  },
  {
   "cell_type": "code",
   "execution_count": null,
   "id": "8b0faf8f-98ad-414b-92af-89dbed3862e3",
   "metadata": {},
   "outputs": [],
   "source": []
  }
 ],
 "metadata": {
  "kernelspec": {
   "display_name": "cems",
   "language": "python",
   "name": "cems"
  },
  "language_info": {
   "codemirror_mode": {
    "name": "ipython",
    "version": 3
   },
   "file_extension": ".py",
   "mimetype": "text/x-python",
   "name": "python",
   "nbconvert_exporter": "python",
   "pygments_lexer": "ipython3",
   "version": "3.10.8"
  }
 },
 "nbformat": 4,
 "nbformat_minor": 5
}
