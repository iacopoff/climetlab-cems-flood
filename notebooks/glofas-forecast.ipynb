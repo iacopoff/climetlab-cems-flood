{
 "cells": [
  {
   "cell_type": "markdown",
   "id": "5fbe5e32-4247-4369-8306-20d77104c7ca",
   "metadata": {},
   "source": [
    "# GloFAS Forecast"
   ]
  },
  {
   "cell_type": "code",
   "execution_count": 2,
   "id": "158d014c-81a4-457c-b0db-f9645d52d14a",
   "metadata": {},
   "outputs": [],
   "source": [
    "import climetlab as cml\n",
    "import climetlab_cems_flood as cmf"
   ]
  },
  {
   "cell_type": "code",
   "execution_count": 3,
   "id": "427c9435-bf0d-4696-992c-464d6c28e8a4",
   "metadata": {},
   "outputs": [],
   "source": [
    "nwse = [50.972204,5.450796, 46.296530, 11.871059] # Ryne"
   ]
  },
  {
   "cell_type": "code",
   "execution_count": 7,
   "id": "36c450f1-a8c8-4b7f-8b01-718cfc4970e1",
   "metadata": {},
   "outputs": [
    {
     "name": "stderr",
     "output_type": "stream",
     "text": [
      "                                                                                                                                                       \r"
     ]
    }
   ],
   "source": [
    "forecast = cml.load_dataset(\n",
    "            'cems-flood-glofas-forecast',\n",
    "            model='lisflood',\n",
    "            product_type='ensemble_perturbed_forecasts',\n",
    "            system_version='operational',\n",
    "            period= '20210710-20210715',#'2001-200401-04*',\n",
    "            leadtime_hour = '24-100',\n",
    "            variable=\"river_discharge_in_the_last_24_hours\",\n",
    "            area= nwse,\n",
    "            split_on = ['day'],\n",
    "            threads = 6,\n",
    "            merger=None\n",
    "        )"
   ]
  },
  {
   "cell_type": "code",
   "execution_count": 9,
   "id": "5461380f-097b-4f62-89d1-91ac40b030fa",
   "metadata": {},
   "outputs": [],
   "source": [
    "ds = forecast.to_xarray()"
   ]
  },
  {
   "cell_type": "code",
   "execution_count": null,
   "id": "8b0faf8f-98ad-414b-92af-89dbed3862e3",
   "metadata": {},
   "outputs": [],
   "source": []
  }
 ],
 "metadata": {
  "kernelspec": {
   "display_name": "cems",
   "language": "python",
   "name": "cems"
  },
  "language_info": {
   "codemirror_mode": {
    "name": "ipython",
    "version": 3
   },
   "file_extension": ".py",
   "mimetype": "text/x-python",
   "name": "python",
   "nbconvert_exporter": "python",
   "pygments_lexer": "ipython3",
   "version": "3.10.8"
  }
 },
 "nbformat": 4,
 "nbformat_minor": 5
}
