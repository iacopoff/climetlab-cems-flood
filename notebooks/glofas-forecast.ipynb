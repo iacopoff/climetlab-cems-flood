{
 "cells": [
  {
   "cell_type": "markdown",
   "id": "5fbe5e32-4247-4369-8306-20d77104c7ca",
   "metadata": {},
   "source": [
    "# GloFAS Forecast"
   ]
  },
  {
   "cell_type": "code",
   "execution_count": 1,
   "id": "d6c56fda-2fc3-4d42-abe8-91b2963b7887",
   "metadata": {},
   "outputs": [
    {
     "name": "stdout",
     "output_type": "stream",
     "text": [
      "Loading cems config: /home/iacopo/.climetlab/cems_config.json, last modified: 2022-12-31 11:21:34.158314\n"
     ]
    }
   ],
   "source": [
    "import climetlab as cml\n",
    "import climetlab_cems_flood as cmf"
   ]
  },
  {
   "cell_type": "code",
   "execution_count": 2,
   "id": "331202c1-4340-4496-905f-8d1005c58bd7",
   "metadata": {},
   "outputs": [],
   "source": [
    "ps = {'name':'pontelagoscuro','lat':44.886111, 'lon':11.604444}\n",
    "cm = {'name':'casale-monferrato','lat':45.142222, 'lon':8.447500} # casale monferrato po\\n\",\n",
    "ca = {'name':'canonica-dadda', 'lat':45.576944, 'lon':9.534722} # canonica d'adda\\n\","
   ]
  },
  {
   "cell_type": "code",
   "execution_count": null,
   "id": "36c450f1-a8c8-4b7f-8b01-718cfc4970e1",
   "metadata": {},
   "outputs": [
    {
     "name": "stderr",
     "output_type": "stream",
     "text": [
      " 11%|██▉                       | 2/18 [00:00<00:06,  2.32it/s]2023-01-02 22:19:38,574 INFO Welcome to the CDS\n",
      "2023-01-02 22:19:38,574 INFO Sending request to https://cds.climate.copernicus.eu/api/v2/resources/cems-glofas-forecast\n",
      "2023-01-02 22:19:38,649 INFO Welcome to the CDS\n",
      "2023-01-02 22:19:38,650 INFO Sending request to https://cds.climate.copernicus.eu/api/v2/resources/cems-glofas-forecast\n",
      "2023-01-02 22:19:38,681 INFO Request is queued\n",
      "2023-01-02 22:19:38,698 INFO Request is queued\n",
      "2023-01-02 22:19:38,710 INFO Welcome to the CDS\n",
      "2023-01-02 22:19:38,711 INFO Sending request to https://cds.climate.copernicus.eu/api/v2/resources/cems-glofas-forecast\n",
      "2023-01-02 22:19:38,732 INFO Welcome to the CDS\n",
      "2023-01-02 22:19:38,733 INFO Sending request to https://cds.climate.copernicus.eu/api/v2/resources/cems-glofas-forecast\n",
      "2023-01-02 22:19:38,744 INFO Request is queued\n",
      "2023-01-02 22:19:38,775 INFO Welcome to the CDS\n",
      "2023-01-02 22:19:38,776 INFO Sending request to https://cds.climate.copernicus.eu/api/v2/resources/cems-glofas-forecast\n",
      "2023-01-02 22:19:38,789 INFO Request is queued\n",
      "2023-01-02 22:19:38,843 INFO Welcome to the CDS\n",
      "2023-01-02 22:19:38,843 INFO Sending request to https://cds.climate.copernicus.eu/api/v2/resources/cems-glofas-forecast\n",
      "2023-01-02 22:19:38,880 INFO Request is queued\n",
      "2023-01-02 22:19:38,893 INFO Request is queued\n",
      "2023-01-02 22:19:39,732 INFO Request is running\n",
      "2023-01-02 22:19:39,776 INFO Request is running\n",
      "2023-01-02 22:20:11,190 INFO Request is completed\n",
      "2023-01-02 22:20:11,191 INFO Request is completed\n",
      "2023-01-02 22:20:11,192 INFO Downloading https://download-0020.copernicus-climate.eu/cache-compute-0020/cache/data7/adaptor.mars.external-1672694378.9285338-8717-13-62473254-02c0-447c-a105-01fcbba31bfe.grib to /data/climetlab-tmp/c-dsretriever-9feaff79bb5fb1c325457226db9867aab83c56300d33bcc9559d84ca01314b45.grib.tmp (70.3K)\n",
      "2023-01-02 22:20:11,193 INFO Downloading https://download-0014-clone.copernicus-climate.eu/cache-compute-0014/cache/data1/adaptor.mars.external-1672694378.9539752-2247-3-2bcb1fd6-38e5-4ae5-8d18-b32ff4009ea4.grib to /data/climetlab-tmp/c-dsretriever-435d9583dd38254ec44439a1e2074b29b6d9f43f9593e2644a2d486165dfe0f3.grib.tmp (70.3K)\n",
      "2023-01-02 22:20:11,276 INFO Request is running\n",
      "2023-01-02 22:20:11,289 INFO Request is running\n",
      "\n",
      "  0%|                             | 0.00/70.3k [00:00<?, ?B/s]\u001b[A\n",
      "\n",
      "  0%|                             | 0.00/70.3k [00:00<?, ?B/s]\u001b[A\u001b[A\n",
      "                                                              \u001b[A2023-01-02 22:20:11,425 INFO Download rate 304.7K/s\n",
      "\n",
      "\n",
      "                                                              \u001b[A\u001b[A2023-01-02 22:20:11,431 INFO Download rate 295.3K/s\n",
      "2023-01-02 22:20:12,119 INFO Welcome to the CDS\n",
      "2023-01-02 22:20:12,120 INFO Sending request to https://cds.climate.copernicus.eu/api/v2/resources/cems-glofas-forecast\n",
      "2023-01-02 22:20:12,160 INFO Request is queued\n",
      "2023-01-02 22:20:12,177 INFO Welcome to the CDS\n",
      "2023-01-02 22:20:12,178 INFO Sending request to https://cds.climate.copernicus.eu/api/v2/resources/cems-glofas-forecast\n",
      "2023-01-02 22:20:12,206 INFO Request is queued\n"
     ]
    }
   ],
   "source": [
    "forecast = cml.load_dataset(\n",
    "            'glofas-forecast',\n",
    "            model='lisflood',\n",
    "            product_type='ensemble_perturbed_forecasts',\n",
    "            system_version='operational',\n",
    "            temporal_filter= '2021 07 10-15',\n",
    "            leadtime_hour = '24-100',\n",
    "            variable=\"river_discharge_in_the_last_24_hours\",\n",
    "            coords = [ps, cm, ca],\n",
    "            split_on = ['coords', 'day'],\n",
    "            threads = 6\n",
    ")"
   ]
  },
  {
   "cell_type": "code",
   "execution_count": 8,
   "id": "5461380f-097b-4f62-89d1-91ac40b030fa",
   "metadata": {},
   "outputs": [],
   "source": [
    "ds = forecast.to_xarray()"
   ]
  }
 ],
 "metadata": {
  "kernelspec": {
   "display_name": "cems",
   "language": "python",
   "name": "cems"
  },
  "language_info": {
   "codemirror_mode": {
    "name": "ipython",
    "version": 3
   },
   "file_extension": ".py",
   "mimetype": "text/x-python",
   "name": "python",
   "nbconvert_exporter": "python",
   "pygments_lexer": "ipython3",
   "version": "3.10.8"
  }
 },
 "nbformat": 4,
 "nbformat_minor": 5
}
